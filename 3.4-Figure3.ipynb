{
 "cells": [
  {
   "cell_type": "markdown",
   "id": "fad775c4-0e17-428a-a47e-3b4f0d18cafb",
   "metadata": {},
   "source": [
    "# Figure 3: conditional CGF applications to MNIST"
   ]
  },
  {
   "cell_type": "code",
   "execution_count": 1,
   "id": "2d1696ea-3ffd-4680-ae04-fe6820847f21",
   "metadata": {},
   "outputs": [],
   "source": [
    "import matplotlib as mpl\n",
    "import matplotlib.pyplot as plt\n",
    "%matplotlib inline\n",
    "from IPython.core.pylabtools import figsize\n",
    "\n",
    "import seaborn as sns\n",
    "import plotly.express as px\n",
    "\n",
    "import numpy as np\n",
    "import pandas as pd\n",
    "\n",
    "import statsmodels.formula.api as smf\n",
    "import torch"
   ]
  },
  {
   "cell_type": "code",
   "execution_count": 2,
   "id": "4bba03c1-3cda-45a9-b5b3-8558d9b5b9f4",
   "metadata": {},
   "outputs": [
    {
     "name": "stdout",
     "output_type": "stream",
     "text": [
      "setup called\n"
     ]
    }
   ],
   "source": [
    "from change_detection import RateFunctionTest, ScoreTest\n",
    "\n",
    "from cgf_network import CGF_ICNN, ConditionalCGF\n",
    "from models.simple_examples import Basic_MNIST\n",
    "from models.data_utilities import exact_data_ratios\n",
    "\n",
    "\n",
    "from torchvision.datasets import MNIST\n",
    "from torchvision.transforms import ToTensor, Compose, Normalize\n",
    "from functools import partial\n",
    "\n",
    "# model checkpoints\n",
    "classifier_ckpt = './learnedExpFam/4ttqob80/checkpoints/epoch=48-step=82712.ckpt'\n",
    "CGF_ckpt = 'trainedParameters/MNIST_initial/step1_MNIST/validation-epoch=310-step=2308242.ckpt'\n",
    "conditional_ckpt = 'trainedParameters/MNIST_initial/step2_MNIST/validation-epoch=128-step=8062500.ckpt'\n",
    "\n",
    "\n",
    "\n",
    "# load MNIST data \n",
    "mnist_model = Basic_MNIST.load_from_checkpoint(classifier_ckpt)\n",
    "mnist_model.setup()\n",
    "mnist_model.fit_activity_transform(mnist_model.data_train)\n",
    "\n",
    "activity_dataset_train = mnist_model.internal_activity_dataset(mnist_model.data_train)\n",
    "\n",
    "\n",
    "mnist_test_data = MNIST('~/Datasets/', download=True, train=False,\n",
    "                        transform=Compose(\n",
    "                          [ToTensor(), Normalize(0., 1.),\n",
    "                           partial(torch.reshape, shape=(-1,))\n",
    "                           ])\n",
    "                       )\n",
    "activity_dataset_test = mnist_model.internal_activity_dataset(mnist_test_data)\n",
    "\n",
    "\n",
    "mnist_cgf = CGF_ICNN.load_from_checkpoint(CGF_ckpt, data_to_model=activity_dataset_train[:][0])\n",
    "conditional_mnist = ConditionalCGF.load_from_checkpoint(conditional_ckpt,\n",
    "                                                        dataset_to_model=activity_dataset_train,\n",
    "                                                       numsamples=1000)\n",
    "conditional_mnist.setup()"
   ]
  },
  {
   "cell_type": "markdown",
   "id": "56076d87-78a3-4037-9fdc-49203ed00699",
   "metadata": {},
   "source": [
    "## General figure formatting"
   ]
  },
  {
   "cell_type": "code",
   "execution_count": 20,
   "id": "72f1726b-e810-42d6-9f04-527e2a051d0b",
   "metadata": {},
   "outputs": [],
   "source": [
    "figsize(1.5,0.5)\n",
    "plt.rc('axes.spines', **{'bottom':True, 'left':True, 'right':True, 'top':True})\n",
    "plt.rc('font', size=10)\n",
    "plt.rc('lines', linewidth=1.8)\n",
    "plt.rcParams['text.usetex'] = True"
   ]
  },
  {
   "cell_type": "code",
   "execution_count": 4,
   "id": "53e249b5-6464-4af4-9399-63508fb40360",
   "metadata": {},
   "outputs": [],
   "source": [
    "from sklearn.linear_model import LinearRegression\n",
    "\n",
    "def sample_means(dataset, N_mean, num_samples, target_weights={i:1. for i in range(10)}):\n",
    "    \"\"\" Sample the average of N_mean activity values\n",
    "        target_weights are the relative probabilities of different targets\n",
    "    \"\"\"\n",
    "    possible_inds =  len(dataset)\n",
    "\n",
    "    _, all_targets = dataset[:]\n",
    "    probs = np.fromiter(map(lambda x: target_weights[x.item()], all_targets), dtype=float)\n",
    "    probs = probs / sum(probs)\n",
    "    \n",
    "    indices = np.random.choice(possible_inds, (num_samples, N_mean), p=probs)\n",
    "    activity, targets = dataset[indices]\n",
    "    \n",
    "\n",
    "    return activity.mean(1), targets\n",
    "\n",
    "def prior_regression( N_mean, distribution):\n",
    "    means, t = sample_means(activity_dataset_test, N_mean, 200, distribution)\n",
    "\n",
    "    parameters = conditional_mnist.make_parameters(torch.arange(10))\n",
    "    conditional_means = conditional_mnist.jac(parameters).detach()\n",
    "\n",
    "    priors = torch.zeros(200, 10)\n",
    "    \n",
    "    for i in range(200):\n",
    "        l = LinearRegression(fit_intercept=False, positive=True)\n",
    "        l.fit(conditional_means.T, means[i])\n",
    "        priors[i] = torch.as_tensor(l.coef_ / sum(l.coef_))\n",
    "\n",
    "    return priors.mean(0), priors.var(0)**0.5"
   ]
  },
  {
   "cell_type": "code",
   "execution_count": 5,
   "id": "76d3755b-1a4a-46a3-bc28-f3801503969f",
   "metadata": {},
   "outputs": [],
   "source": [
    "distributions = []\n",
    "\n",
    "alt_weights={i:1. for i in range(10)}\n",
    "alt_weights[2] = 0\n",
    "alt_weights[4] = 0\n",
    "distributions.append(alt_weights)\n",
    "\n",
    "alt_weights={i:1. for i in range(10)}\n",
    "alt_weights[2] = 2\n",
    "distributions.append(alt_weights)\n",
    "\n",
    "alt_weights={i:1. for i in range(10)}\n",
    "alt_weights[2] = 2\n",
    "alt_weights[9] = 2\n",
    "alt_weights[8] = 2\n",
    "distributions.append(alt_weights)\n",
    "\n",
    "alt_weights={i:1. for i in range(10)}\n",
    "alt_weights[0] = 1.5\n",
    "alt_weights[1] = 1.5\n",
    "alt_weights[2] = 1.5\n",
    "alt_weights[3] = 1.5\n",
    "alt_weights[4] = 1.5\n",
    "\n",
    "distributions.append(alt_weights)\n",
    "\n",
    "baseline={i:1. for i in range(10)}"
   ]
  },
  {
   "cell_type": "code",
   "execution_count": 46,
   "id": "8b085539-255e-4e6f-997f-26152190e55a",
   "metadata": {},
   "outputs": [
    {
     "data": {
      "image/png": "[encoded data removed]",
      "text/plain": [
       "<Figure size 150x50 with 1 Axes>"
      ]
     },
     "metadata": {},
     "output_type": "display_data"
    }
   ],
   "source": [
    "meansbase, stdsbase = prior_regression(100, baseline)\n",
    "plt.errorbar(range(10), meansbase, fmt='-o', yerr=stdsbase, alpha=0.5)\n",
    "plt.plot(range(10), meansbase, '-oC0')\n",
    "plt.xticks([0, 10])\n",
    "plt.xlabel('targets', labelpad=-5)\n",
    "plt.ylabel('prior', labelpad=-1)\n",
    "plt.ylim([0, 0.2])\n",
    "plt.savefig('distbaseline.png', dpi=1000, bbox_inches='tight', pad_inches=0.02)"
   ]
  },
  {
   "cell_type": "code",
   "execution_count": 47,
   "id": "2a1bd79d-f5af-44de-84b7-3e8ac578562b",
   "metadata": {},
   "outputs": [
    {
     "data": {
      "image/png": "[encoded data removed]",
      "text/plain": [
       "<Figure size 150x50 with 1 Axes>"
      ]
     },
     "metadata": {},
     "output_type": "display_data"
    }
   ],
   "source": [
    "means0, stds0 = prior_regression(100, distributions[0])\n",
    "plt.errorbar(range(10), means0, fmt='-o', yerr=stds0, alpha=0.5)\n",
    "plt.plot(range(10), means0, '-oC0')\n",
    "plt.xticks([0, 10])\n",
    "plt.xlabel('targets', labelpad=-5)\n",
    "plt.ylabel('prior', labelpad=-1)\n",
    "plt.savefig('dist0.png', dpi=1000, bbox_inches='tight', pad_inches=0.02)"
   ]
  },
  {
   "cell_type": "code",
   "execution_count": 48,
   "id": "d09416fa-c688-4bd3-84fa-bab894edf59a",
   "metadata": {},
   "outputs": [
    {
     "data": {
      "image/png": "[encoded data removed]",
      "text/plain": [
       "<Figure size 150x50 with 1 Axes>"
      ]
     },
     "metadata": {},
     "output_type": "display_data"
    }
   ],
   "source": [
    "means1, stds1 = prior_regression(100, distributions[1])\n",
    "plt.errorbar(range(10), means1, fmt='-o', yerr=stds1, alpha=0.5)\n",
    "plt.plot(range(10), means1, '-oC0')\n",
    "plt.xticks([0, 10])\n",
    "plt.xlabel('targets', labelpad=-5)\n",
    "plt.ylabel('prior', labelpad=-1)\n",
    "plt.yticks([0, 0.2])\n",
    "plt.savefig('dist1.png', dpi=1000, bbox_inches='tight', pad_inches=0.02)"
   ]
  },
  {
   "cell_type": "code",
   "execution_count": 50,
   "id": "76e51065-d217-4240-a5a7-e0b56238072e",
   "metadata": {},
   "outputs": [
    {
     "data": {
      "image/png": "[encoded data removed]",
      "text/plain": [
       "<Figure size 150x50 with 1 Axes>"
      ]
     },
     "metadata": {},
     "output_type": "display_data"
    }
   ],
   "source": [
    "means2, stds2 = prior_regression(100, distributions[3])\n",
    "plt.errorbar(range(10), means2, fmt='-o', yerr=stds2, alpha=0.5)\n",
    "plt.plot(range(10), means2, '-oC0')\n",
    "plt.xticks([0, 10])\n",
    "plt.xlabel('targets', labelpad=-5)\n",
    "plt.ylabel('prior', labelpad=-1)\n",
    "plt.yticks([0, 0.2])\n",
    "plt.savefig('dist2.png', dpi=1000, bbox_inches='tight', pad_inches=0.02)"
   ]
  },
  {
   "cell_type": "code",
   "execution_count": null,
   "id": "faf2d0de-4131-4dbd-994c-759ca5473447",
   "metadata": {},
   "outputs": [],
   "source": []
  },
  {
   "cell_type": "code",
   "execution_count": 137,
   "id": "74c2013a-3821-4a5a-b09b-223748aa6e0c",
   "metadata": {},
   "outputs": [],
   "source": [
    "def log_conditional_distribution(x, conditional_model=conditional_mnist):\n",
    "    \"\"\" log-likelihood under the tilted prior \"\"\"\n",
    "    n_samples = x.shape[0]\n",
    "    parameters = conditional_model.make_parameters(torch.arange(10))\n",
    "\n",
    "    input_projection = x @ parameters.T\n",
    "    normalizers = conditional_model.forward(parameters.to(conditional_model.device)).cpu()\n",
    "    normalizers = normalizers.T.repeat(n_samples,1)\n",
    "    \n",
    "    return input_projection - normalizers\n",
    "\n",
    "\n",
    "def bayesian_posterior(x, prior, conditional_model=conditional_mnist):\n",
    "    \"\"\" perform bayes inference on the points in question \"\"\"\n",
    "    n_samples = x.shape[0]\n",
    "\n",
    "    log_prior = torch.log(prior).repeat(n_samples, 1)\n",
    "    log_posterior = log_conditional_distribution(x, conditional_model) + log_prior\n",
    "\n",
    "    softmax = torch.nn.Softmax(dim=1)\n",
    "\n",
    "    return softmax(log_posterior)\n",
    "    "
   ]
  },
  {
   "cell_type": "code",
   "execution_count": 138,
   "id": "f80bb366-9276-4b4f-a2db-aba8a3bce828",
   "metadata": {},
   "outputs": [
    {
     "data": {
      "text/plain": [
       "tensor([9, 1, 1,  ..., 1, 5, 1])"
      ]
     },
     "execution_count": 138,
     "metadata": {},
     "output_type": "execute_result"
    }
   ],
   "source": [
    "inputs = conditional_mnist.data\n",
    "targets = conditional_mnist.targets\n",
    "torch.argmax(log_conditional_distribution(inputs), dim=1)"
   ]
  },
  {
   "cell_type": "code",
   "execution_count": 139,
   "id": "001b59b2-30b4-4d75-be5f-18e8f4e9c359",
   "metadata": {},
   "outputs": [],
   "source": [
    "data = {}"
   ]
  },
  {
   "cell_type": "code",
   "execution_count": 140,
   "id": "cb1634ba-8a5b-4a81-8828-aff9877d4103",
   "metadata": {},
   "outputs": [],
   "source": [
    "prior = torch.ones(10) / 10.\n",
    "posterior = torch.argmax(bayesian_posterior(inputs, prior), dim=1)\n",
    "data['uniform'] = (posterior == targets).sum() / posterior.shape[0] "
   ]
  },
  {
   "cell_type": "code",
   "execution_count": 141,
   "id": "a33dee7b-1510-4b8f-9dd4-63ee8bc2f32a",
   "metadata": {},
   "outputs": [
    {
     "data": {
      "text/plain": [
       "tensor(0.8370)"
      ]
     },
     "execution_count": 141,
     "metadata": {},
     "output_type": "execute_result"
    }
   ],
   "source": [
    "data['uniform']"
   ]
  },
  {
   "cell_type": "code",
   "execution_count": null,
   "id": "81461edb-2d2b-4135-b1b8-0c4485d5c415",
   "metadata": {},
   "outputs": [],
   "source": []
  },
  {
   "cell_type": "code",
   "execution_count": 144,
   "id": "119ba14e-3299-4dde-a49e-a8eb82a3a0e9",
   "metadata": {},
   "outputs": [],
   "source": [
    "def sample_activity(dataset, N_mean, num_samples, target_weights={i:1. for i in range(10)}):\n",
    "    \"\"\" Sample the average of N_mean activity values\n",
    "        target_weights are the relative probabilities of different targets\n",
    "    \"\"\"\n",
    "    possible_inds =  len(dataset)\n",
    "\n",
    "    _, all_targets = dataset[:]\n",
    "    probs = np.fromiter(map(lambda x: target_weights[x.item()], all_targets), dtype=float)\n",
    "    probs = probs / sum(probs)\n",
    "    \n",
    "    indices = np.random.choice(possible_inds, (num_samples, N_mean), p=probs)\n",
    "    activity, targets = dataset[indices]\n",
    "    \n",
    "\n",
    "    return activity, targets\n",
    "\n",
    "def evaluate_performance(N, distribution):\n",
    "    inputs, targets = sample_activity(activity_dataset_test, 1, 5000, target_weights=distribution)\n",
    "    inputs = inputs.squeeze()\n",
    "    targets = targets.squeeze()\n",
    "\n",
    "    prior = torch.zeros(10)\n",
    "    for i in range(10):\n",
    "        prior[i] = distribution[i]\n",
    "    prior = prior / prior.sum()\n",
    "\n",
    "    decoded = torch.argmax(bayesian_posterior(inputs, prior), dim=1)\n",
    "    return (decoded == targets).sum() / decoded.shape[0]\n",
    "    \n",
    "    "
   ]
  },
  {
   "cell_type": "code",
   "execution_count": 146,
   "id": "bb9db988-a14f-4730-9bf6-f1ec4d4ab086",
   "metadata": {},
   "outputs": [],
   "source": [
    "data['dist0'] = evaluate_performance(5000, distributions[0])"
   ]
  },
  {
   "cell_type": "code",
   "execution_count": 147,
   "id": "a253336d-05fb-4425-98d7-bd2e21d711da",
   "metadata": {},
   "outputs": [],
   "source": [
    "data['dist1'] = evaluate_performance(5000, distributions[1])"
   ]
  },
  {
   "cell_type": "code",
   "execution_count": 148,
   "id": "c380db38-24e8-484e-82aa-f27475ea329f",
   "metadata": {},
   "outputs": [],
   "source": [
    "data['dist2'] = evaluate_performance(5000, distributions[3])"
   ]
  },
  {
   "cell_type": "code",
   "execution_count": 159,
   "id": "48d4aefc-afa7-41ca-825d-b08682b8bb02",
   "metadata": {},
   "outputs": [
    {
     "data": {
      "image/png": "[encoded data removed]",
      "text/plain": [
       "<Figure size 200x150 with 1 Axes>"
      ]
     },
     "metadata": {},
     "output_type": "display_data"
    }
   ],
   "source": [
    "figsize(2,1.5)\n",
    "plt.bar(data.keys(), data.values())\n",
    "plt.ylim([0.75, 1.])\n",
    "plt.ylabel('accuracy')\n",
    "plt.savefig('figure3b.png', dpi=1000, bbox_inches='tight', pad_inches=0.02)"
   ]
  },
  {
   "cell_type": "code",
   "execution_count": null,
   "id": "c96efd4d-0bae-431a-9562-bbdda56d55d6",
   "metadata": {},
   "outputs": [],
   "source": []
  },
  {
   "cell_type": "code",
   "execution_count": null,
   "id": "9f411c5f-4898-4612-bb9b-e7b0a5597375",
   "metadata": {},
   "outputs": [],
   "source": []
  }
 ],
 "metadata": {
  "kernelspec": {
   "display_name": "Python 3 (ipykernel)",
   "language": "python",
   "name": "python3"
  },
  "language_info": {
   "codemirror_mode": {
    "name": "ipython",
    "version": 3
   },
   "file_extension": ".py",
   "mimetype": "text/x-python",
   "name": "python",
   "nbconvert_exporter": "python",
   "pygments_lexer": "ipython3",
   "version": "3.12.8"
  }
 },
 "nbformat": 4,
 "nbformat_minor": 5
}
